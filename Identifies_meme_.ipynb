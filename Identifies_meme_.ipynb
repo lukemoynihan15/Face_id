{
 "cells": [
  {
   "cell_type": "code",
   "execution_count": 1,
   "id": "32bdbef7",
   "metadata": {},
   "outputs": [],
   "source": [
    "import cv2 as cv\n",
    "import os\n",
    "import numpy as np\n",
    "import face_recognizer\n",
    "import face_recognition"
   ]
  },
  {
   "cell_type": "code",
   "execution_count": 3,
   "id": "f7e99dde",
   "metadata": {},
   "outputs": [
    {
     "name": "stdout",
     "output_type": "stream",
     "text": [
      "/Applications/Desktop/opencv old_man /Applications/Desktop/opencv/old_man\n",
      "/Applications/Desktop/opencv leo /Applications/Desktop/opencv/leo\n",
      "/Applications/Desktop/opencv kanye /Applications/Desktop/opencv/kanye\n",
      "/Applications/Desktop/opencv drake /Applications/Desktop/opencv/drake\n",
      "/Applications/Desktop/opencv confused /Applications/Desktop/opencv/confused\n",
      "Training done\n"
     ]
    }
   ],
   "source": [
    "people = ['old_man','leo','kanye','drake','confused']\n",
    "dir = '/Applications/Desktop/opencv'\n",
    "haar_cascade = cv.CascadeClassifier('/Applications/Desktop/haarcascades/haarcascade_frontalface_alt.xml')\n",
    "\n",
    "features = []\n",
    "labels = []\n",
    "\n",
    "for person in people:\n",
    "    path = dir + person\n",
    "    path = os.path.join(dir, person)\n",
    "    print(dir,person,path)\n",
    "    label = people.index(person)\n",
    "    \n",
    "    for p in os.listdir(path):\n",
    "        img_path = os.path.join(path,p)\n",
    "        img_array = cv.imread(img_path)\n",
    "        gray = cv.cvtColor(img_array, cv.COLOR_BGR2GRAY)\n",
    "        \n",
    "        faces_rect = haar_cascade.detectMultiScale(gray, scaleFactor = 1.1, minNeighbors=4)\n",
    "        \n",
    "        for (x,y,w,h) in faces_rect:\n",
    "            faces_roi = gray[y:y+h, x:x+w]\n",
    "            features.append(faces_roi)\n",
    "            labels.append(label)\n",
    "print('Training done')\n",
    "        \n",
    "        \n",
    "        "
   ]
  },
  {
   "cell_type": "code",
   "execution_count": 4,
   "id": "f27922bd",
   "metadata": {},
   "outputs": [],
   "source": [
    "features = np.array(features, dtype='object')\n",
    "labels = np.array(labels)\n",
    "\n",
    "face_recognizer = cv.face.LBPHFaceRecognizer_create()\n",
    "face_recognizer.train(features,labels)\n",
    "\n",
    "face_recognizer.train(features, labels)\n",
    "\n"
   ]
  },
  {
   "cell_type": "code",
   "execution_count": 5,
   "id": "a311e53f",
   "metadata": {},
   "outputs": [],
   "source": [
    "face_recognizer.save('face_trained.yml')"
   ]
  },
  {
   "cell_type": "code",
   "execution_count": 6,
   "id": "eb6195c9",
   "metadata": {},
   "outputs": [],
   "source": [
    "np.save('features.npy', features)\n",
    "np.save('labels.npy', labels)"
   ]
  },
  {
   "cell_type": "code",
   "execution_count": 7,
   "id": "9c18b1a0",
   "metadata": {},
   "outputs": [],
   "source": [
    "features = np.load('features.npy', allow_pickle=True)\n",
    "labels = np.load('labels.npy')\n",
    "\n",
    "face_recognizer.read('face_trained.yml')"
   ]
  },
  {
   "cell_type": "code",
   "execution_count": 8,
   "id": "9fe3385a",
   "metadata": {},
   "outputs": [],
   "source": [
    "img = cv.imread('/Applications/Desktop/opencv/drake/7.jpg')\n",
    "gray = cv.cvtColor(img, cv.COLOR_BGR2GRAY)\n",
    "cv.imshow('Person', gray)"
   ]
  },
  {
   "cell_type": "code",
   "execution_count": 9,
   "id": "9fdb319a",
   "metadata": {},
   "outputs": [],
   "source": [
    "faces_rect = haar_cascade.detectMultiScale(gray, 1.1, 4)"
   ]
  },
  {
   "cell_type": "code",
   "execution_count": 10,
   "id": "35305c81",
   "metadata": {},
   "outputs": [
    {
     "name": "stdout",
     "output_type": "stream",
     "text": [
      "label = drake with a confidence of 0.0\n"
     ]
    }
   ],
   "source": [
    "\n",
    "for (x,y,w,h) in faces_rect:\n",
    "    faces_roi = gray[y:y+h, x:x+w]\n",
    "    label, confidence = face_recognizer.predict(faces_roi)\n",
    "    print(f'label = {people[label]} with a confidence of {confidence}')\n",
    "    \n",
    "    cv.putText(img, str(people[label]),(20,20), cv.FONT_HERSHEY_COMPLEX, 1.0,(0,255,0), thickness = 2)\n",
    "    cv.rectangle(img, (x,y), (x+w, y+h), (0,255,0), thickness=2)\n",
    "    \n",
    "cv.imshow(\"detected Face\", img)\n"
   ]
  },
  {
   "cell_type": "code",
   "execution_count": null,
   "id": "7cc3a50c",
   "metadata": {},
   "outputs": [],
   "source": [
    "https://www.youtube.com/watch?v=VvuVCec-KZM "
   ]
  },
  {
   "cell_type": "code",
   "execution_count": null,
   "id": "e7ce6c0c",
   "metadata": {},
   "outputs": [],
   "source": []
  },
  {
   "cell_type": "code",
   "execution_count": null,
   "id": "888ba2b7",
   "metadata": {},
   "outputs": [],
   "source": []
  },
  {
   "cell_type": "code",
   "execution_count": null,
   "id": "73ab7962",
   "metadata": {},
   "outputs": [],
   "source": []
  },
  {
   "cell_type": "code",
   "execution_count": null,
   "id": "be70c0d2",
   "metadata": {},
   "outputs": [],
   "source": []
  },
  {
   "cell_type": "code",
   "execution_count": null,
   "id": "8b203511",
   "metadata": {},
   "outputs": [],
   "source": []
  },
  {
   "cell_type": "code",
   "execution_count": null,
   "id": "4f4489ce",
   "metadata": {},
   "outputs": [],
   "source": []
  },
  {
   "cell_type": "code",
   "execution_count": 9,
   "id": "0d2235b5",
   "metadata": {},
   "outputs": [],
   "source": [
    "images = ['/Applications/Desktop/opencv/confused','/Applications/Desktop/opencv/old_man',\n",
    "         '/Applications/Desktop/opencv/drake','/Applications/Desktop/opencv/trump',\n",
    "         '/Applications/Desktop/opencv/leo','/Applications/Desktop/opencv/kanye']\n",
    "names = ['confused','old_man','drake','trump','leo','kanye']"
   ]
  },
  {
   "cell_type": "code",
   "execution_count": 55,
   "id": "68246e12",
   "metadata": {},
   "outputs": [],
   "source": [
    "def plot_faces(images, names, row=3, col=2):\n",
    "    \"\"\"\n",
    "    :images: ndarray of face images to display\n",
    "    :names: corresponding names for ndarray face images\n",
    "    :row: number of rows to print\n",
    "    :col: number of columns to print\n",
    "    \"\"\"\n",
    "    plt.figure(figsize=(2.0 * col, 3.0 * row))\n",
    "    for r in range(row * col):\n",
    "        face = plt.subplot(row, col, r + 1)\n",
    "        plt.imshow(images[r].reshape(50, 37), plt.cm.gray)\n",
    "        plt.title(names[r])"
   ]
  },
  {
   "cell_type": "code",
   "execution_count": 56,
   "id": "f707ec82",
   "metadata": {},
   "outputs": [
    {
     "ename": "NameError",
     "evalue": "name 'faces' is not defined",
     "output_type": "error",
     "traceback": [
      "\u001b[0;31m---------------------------------------------------------------------------\u001b[0m",
      "\u001b[0;31mNameError\u001b[0m                                 Traceback (most recent call last)",
      "\u001b[0;32m<ipython-input-56-edf4d0d389a2>\u001b[0m in \u001b[0;36m<module>\u001b[0;34m\u001b[0m\n\u001b[0;32m----> 1\u001b[0;31m \u001b[0mplot_faces\u001b[0m\u001b[0;34m(\u001b[0m\u001b[0mfaces\u001b[0m\u001b[0;34m.\u001b[0m\u001b[0mimages\u001b[0m\u001b[0;34m[\u001b[0m\u001b[0;34m:\u001b[0m\u001b[0;36m12\u001b[0m\u001b[0;34m]\u001b[0m\u001b[0;34m[\u001b[0m\u001b[0;34m:\u001b[0m\u001b[0;34m]\u001b[0m\u001b[0;34m,\u001b[0m \u001b[0mfaces_df\u001b[0m\u001b[0;34m[\u001b[0m\u001b[0;34m'name'\u001b[0m\u001b[0;34m]\u001b[0m\u001b[0;34m.\u001b[0m\u001b[0mhead\u001b[0m\u001b[0;34m(\u001b[0m\u001b[0;36m12\u001b[0m\u001b[0;34m)\u001b[0m\u001b[0;34m)\u001b[0m\u001b[0;34m\u001b[0m\u001b[0;34m\u001b[0m\u001b[0m\n\u001b[0m",
      "\u001b[0;31mNameError\u001b[0m: name 'faces' is not defined"
     ]
    }
   ],
   "source": [
    "plot_faces(faces.images[:12][:], faces_df['name'].head(12))\n"
   ]
  },
  {
   "cell_type": "code",
   "execution_count": null,
   "id": "36711995",
   "metadata": {},
   "outputs": [],
   "source": []
  }
 ],
 "metadata": {
  "kernelspec": {
   "display_name": "Python 3 (ipykernel)",
   "language": "python",
   "name": "python3"
  },
  "language_info": {
   "codemirror_mode": {
    "name": "ipython",
    "version": 3
   },
   "file_extension": ".py",
   "mimetype": "text/x-python",
   "name": "python",
   "nbconvert_exporter": "python",
   "pygments_lexer": "ipython3",
   "version": "3.8.8"
  }
 },
 "nbformat": 4,
 "nbformat_minor": 5
}
